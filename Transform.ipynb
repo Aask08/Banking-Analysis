{
 "cells": [
  {
   "cell_type": "markdown",
   "metadata": {},
   "source": [
    "# Extract Part"
   ]
  },
  {
   "cell_type": "code",
   "execution_count": 5,
   "metadata": {
    "ExecuteTime": {
     "end_time": "2020-04-01T03:50:58.226528Z",
     "start_time": "2020-04-01T03:50:56.958088Z"
    }
   },
   "outputs": [
    {
     "name": "stdout",
     "output_type": "stream",
     "text": [
      "\n",
      "Confirmed Cases Data (First 5 rows):\n",
      "  Province/State Country/Region      Lat     Long  1/22/20  1/23/20  1/24/20  \\\n",
      "0            NaN    Afghanistan  33.0000  65.0000        0        0        0   \n",
      "1            NaN        Albania  41.1533  20.1683        0        0        0   \n",
      "2            NaN        Algeria  28.0339   1.6596        0        0        0   \n",
      "3            NaN        Andorra  42.5063   1.5218        0        0        0   \n",
      "4            NaN         Angola -11.2027  17.8739        0        0        0   \n",
      "\n",
      "   1/25/20  1/26/20  1/27/20  ...  3/18/20  3/19/20  3/20/20  3/21/20  \\\n",
      "0        0        0        0  ...       22       22       24       24   \n",
      "1        0        0        0  ...       59       64       70       76   \n",
      "2        0        0        0  ...       74       87       90      139   \n",
      "3        0        0        0  ...       39       53       75       88   \n",
      "4        0        0        0  ...        0        0        1        2   \n",
      "\n",
      "   3/22/20  3/23/20  3/24/20  3/25/20  3/26/20  3/27/20  \n",
      "0       40       40       74       84       94      110  \n",
      "1       89      104      123      146      174      186  \n",
      "2      201      230      264      302      367      409  \n",
      "3      113      133      164      188      224      267  \n",
      "4        2        3        3        3        4        4  \n",
      "\n",
      "[5 rows x 70 columns]\n",
      "\n",
      "Recovered Cases Data (First 5 rows):\n",
      "  Province/State Country/Region      Lat     Long  1/22/20  1/23/20  1/24/20  \\\n",
      "0            NaN    Afghanistan  33.0000  65.0000        0        0        0   \n",
      "1            NaN        Albania  41.1533  20.1683        0        0        0   \n",
      "2            NaN        Algeria  28.0339   1.6596        0        0        0   \n",
      "3            NaN        Andorra  42.5063   1.5218        0        0        0   \n",
      "4            NaN         Angola -11.2027  17.8739        0        0        0   \n",
      "\n",
      "   1/25/20  1/26/20  1/27/20  ...  3/18/20  3/19/20  3/20/20  3/21/20  \\\n",
      "0        0        0        0  ...        1        1        1        1   \n",
      "1        0        0        0  ...        0        0        0        2   \n",
      "2        0        0        0  ...       12       32       32       32   \n",
      "3        0        0        0  ...        1        1        1        1   \n",
      "4        0        0        0  ...        0        0        0        0   \n",
      "\n",
      "   3/22/20  3/23/20  3/24/20  3/25/20  3/26/20  3/27/20  \n",
      "0        1        1        1        2        2        2  \n",
      "1        2        2       10       17       17       31  \n",
      "2       65       65       24       65       29       29  \n",
      "3        1        1        1        1        1        1  \n",
      "4        0        0        0        0        0        0  \n",
      "\n",
      "[5 rows x 70 columns]\n",
      "\n",
      "Deaths Cases Data (First 5 rows):\n",
      "  Province/State Country/Region      Lat     Long  1/22/20  1/23/20  1/24/20  \\\n",
      "0            NaN    Afghanistan  33.0000  65.0000        0        0        0   \n",
      "1            NaN        Albania  41.1533  20.1683        0        0        0   \n",
      "2            NaN        Algeria  28.0339   1.6596        0        0        0   \n",
      "3            NaN        Andorra  42.5063   1.5218        0        0        0   \n",
      "4            NaN         Angola -11.2027  17.8739        0        0        0   \n",
      "\n",
      "   1/25/20  1/26/20  1/27/20  ...  3/18/20  3/19/20  3/20/20  3/21/20  \\\n",
      "0        0        0        0  ...        0        0        0        0   \n",
      "1        0        0        0  ...        2        2        2        2   \n",
      "2        0        0        0  ...        7        9       11       15   \n",
      "3        0        0        0  ...        0        0        0        0   \n",
      "4        0        0        0  ...        0        0        0        0   \n",
      "\n",
      "   3/22/20  3/23/20  3/24/20  3/25/20  3/26/20  3/27/20  \n",
      "0        1        1        1        2        4        4  \n",
      "1        2        4        5        5        6        8  \n",
      "2       17       17       19       21       25       26  \n",
      "3        1        1        1        1        3        3  \n",
      "4        0        0        0        0        0        0  \n",
      "\n",
      "[5 rows x 70 columns]\n"
     ]
    }
   ],
   "source": [
    "# Import all dependencies\n",
    "import pandas as pd\n",
    "from sqlalchemy import create_engine\n",
    "\n",
    "# Locate all three CSV files\n",
    "confirmed_csv_file = \"time_series_covid19_confirmed_global.csv\"\n",
    "recovered_csv_file = \"time_series_covid19_recovered_global.csv\"\n",
    "deaths_csv_file = \"time_series_covid19_deaths_global.csv\"\n",
    "\n",
    "# Read and display confirmed cases\n",
    "confirmed_data_df = pd.read_csv(confirmed_csv_file)\n",
    "print(\"\\nConfirmed Cases Data (First 5 rows):\")\n",
    "print(confirmed_data_df.head())  # Explicitly printing\n",
    "\n",
    "# Read and display recovered cases\n",
    "recovered_data_df = pd.read_csv(recovered_csv_file)\n",
    "print(\"\\nRecovered Cases Data (First 5 rows):\")\n",
    "print(recovered_data_df.head())  # Explicitly printing\n",
    "\n",
    "# Read and display deaths cases\n",
    "deaths_data_df = pd.read_csv(deaths_csv_file)\n",
    "print(\"\\nDeaths Cases Data (First 5 rows):\")\n",
    "print(deaths_data_df.head())  # Explicitly printing\n",
    "\n"
   ]
  },
  {
   "cell_type": "markdown",
   "metadata": {},
   "source": [
    "# Transform Part"
   ]
  },
  {
   "cell_type": "code",
   "execution_count": 6,
   "metadata": {
    "ExecuteTime": {
     "end_time": "2020-04-01T03:50:58.536954Z",
     "start_time": "2020-04-01T03:50:58.519969Z"
    }
   },
   "outputs": [],
   "source": [
    "#Import module \n",
    "import numpy as np"
   ]
  },
  {
   "cell_type": "code",
   "execution_count": 9,
   "metadata": {
    "ExecuteTime": {
     "end_time": "2020-04-01T03:50:58.558518Z",
     "start_time": "2020-04-01T03:50:58.546522Z"
    }
   },
   "outputs": [
    {
     "data": {
      "text/plain": [
       "Province/State     object\n",
       "Country/Region     object\n",
       "Lat               float64\n",
       "Long              float64\n",
       "1/22/20             int64\n",
       "                   ...   \n",
       "3/23/20             int64\n",
       "3/24/20             int64\n",
       "3/25/20             int64\n",
       "3/26/20             int64\n",
       "3/27/20             int64\n",
       "Length: 70, dtype: object"
      ]
     },
     "execution_count": 9,
     "metadata": {},
     "output_type": "execute_result"
    }
   ],
   "source": [
    "#Confirm the data are the right data types\n",
    "confirmed_data_df.dtypes\n",
    "recovered_data_df.dtypes\n",
    "deaths_data_df.dtypes"
   ]
  },
  {
   "cell_type": "code",
   "execution_count": 25,
   "metadata": {
    "ExecuteTime": {
     "end_time": "2020-04-01T03:50:58.591024Z",
     "start_time": "2020-04-01T03:50:58.569510Z"
    }
   },
   "outputs": [
    {
     "name": "stdout",
     "output_type": "stream",
     "text": [
      "\n",
      "Cleaned Confirmed Cases Data:\n",
      "  Country/Region  1/23/20  2/3/20  2/13/20  2/23/20  3/1/20  3/2/20  3/3/20  \\\n",
      "0    Afghanistan        0       0        0        0       1       1       1   \n",
      "1        Albania        0       0        0        0       0       0       0   \n",
      "2        Algeria        0       0        0        0       1       3       5   \n",
      "3        Andorra        0       0        0        0       0       1       1   \n",
      "4         Angola        0       0        0        0       0       0       0   \n",
      "\n",
      "   3/4/20  3/5/20  ...  3/18/20  3/19/20  3/20/20  3/21/20  3/22/20  3/23/20  \\\n",
      "0       1       1  ...       22       22       24       24       40       40   \n",
      "1       0       0  ...       59       64       70       76       89      104   \n",
      "2      12      12  ...       74       87       90      139      201      230   \n",
      "3       1       1  ...       39       53       75       88      113      133   \n",
      "4       0       0  ...        0        0        1        2        2        3   \n",
      "\n",
      "   3/24/20  3/25/20  3/26/20  3/27/20  \n",
      "0       74       84       94      110  \n",
      "1      123      146      174      186  \n",
      "2      264      302      367      409  \n",
      "3      164      188      224      267  \n",
      "4        3        3        4        4  \n",
      "\n",
      "[5 rows x 32 columns]\n",
      "\n",
      "Cleaned Recovered Cases Data:\n",
      "  Country/Region  1/23/20  2/3/20  2/13/20  2/23/20  3/1/20  3/2/20  3/3/20  \\\n",
      "0    Afghanistan        0       0        0        0       0       0       0   \n",
      "1        Albania        0       0        0        0       0       0       0   \n",
      "2        Algeria        0       0        0        0       0       0       0   \n",
      "3        Andorra        0       0        0        0       0       0       0   \n",
      "4         Angola        0       0        0        0       0       0       0   \n",
      "\n",
      "   3/4/20  3/5/20  ...  3/18/20  3/19/20  3/20/20  3/21/20  3/22/20  3/23/20  \\\n",
      "0       0       0  ...        1        1        1        1        1        1   \n",
      "1       0       0  ...        0        0        0        2        2        2   \n",
      "2       0       0  ...       12       32       32       32       65       65   \n",
      "3       0       0  ...        1        1        1        1        1        1   \n",
      "4       0       0  ...        0        0        0        0        0        0   \n",
      "\n",
      "   3/24/20  3/25/20  3/26/20  3/27/20  \n",
      "0        1        2        2        2  \n",
      "1       10       17       17       31  \n",
      "2       24       65       29       29  \n",
      "3        1        1        1        1  \n",
      "4        0        0        0        0  \n",
      "\n",
      "[5 rows x 32 columns]\n",
      "\n",
      "Cleaned Death Cases Data:\n",
      "  Country/Region  1/23/20  2/3/20  2/13/20  2/23/20  3/1/20  3/2/20  3/3/20  \\\n",
      "0    Afghanistan        0       0        0        0       0       0       0   \n",
      "1        Albania        0       0        0        0       0       0       0   \n",
      "2        Algeria        0       0        0        0       0       0       0   \n",
      "3        Andorra        0       0        0        0       0       0       0   \n",
      "4         Angola        0       0        0        0       0       0       0   \n",
      "\n",
      "   3/4/20  3/5/20  ...  3/18/20  3/19/20  3/20/20  3/21/20  3/22/20  3/23/20  \\\n",
      "0       0       0  ...        0        0        0        0        1        1   \n",
      "1       0       0  ...        2        2        2        2        2        4   \n",
      "2       0       0  ...        7        9       11       15       17       17   \n",
      "3       0       0  ...        0        0        0        0        1        1   \n",
      "4       0       0  ...        0        0        0        0        0        0   \n",
      "\n",
      "   3/24/20  3/25/20  3/26/20  3/27/20  \n",
      "0        1        2        4        4  \n",
      "1        5        5        6        8  \n",
      "2       19       21       25       26  \n",
      "3        1        1        3        3  \n",
      "4        0        0        0        0  \n",
      "\n",
      "[5 rows x 32 columns]\n"
     ]
    }
   ],
   "source": [
    "import pandas as pd\n",
    "import numpy as np\n",
    "\n",
    "# Function to clean datasets\n",
    "def clean(df):\n",
    "    # Drop unnecessary columns\n",
    "    df = df.drop(columns=['Province/State', 'Lat', 'Long'])\n",
    "\n",
    "    # Identify columns containing March data (dynamic selection)\n",
    "    date_columns = [col for col in df.columns if '3/' in col]  # Selects columns for March\n",
    "\n",
    "    # Keep \"Country/Region\" and March data\n",
    "    clean_df = df[['Country/Region'] + date_columns].groupby('Country/Region').sum().reset_index()\n",
    "    \n",
    "    return clean_df\n",
    "\n",
    "# Clean the datasets\n",
    "confirmed_clean_df = clean(confirmed_data_df)\n",
    "recovered_clean_df = clean(recovered_data_df)\n",
    "deaths_clean_df = clean(deaths_data_df)\n",
    "\n",
    "# Display cleaned data\n",
    "print(\"\\nCleaned Confirmed Cases Data:\")\n",
    "print(confirmed_clean_df.head())\n",
    "\n",
    "print(\"\\nCleaned Recovered Cases Data:\")\n",
    "print(recovered_clean_df.head())\n",
    "\n",
    "print(\"\\nCleaned Death Cases Data:\")\n",
    "print(deaths_clean_df.head())\n"
   ]
  },
  {
   "cell_type": "code",
   "execution_count": 27,
   "metadata": {
    "ExecuteTime": {
     "end_time": "2020-04-01T03:50:58.886984Z",
     "start_time": "2020-04-01T03:50:58.861481Z"
    },
    "scrolled": true
   },
   "outputs": [
    {
     "data": {
      "text/plain": [
       "True"
      ]
     },
     "execution_count": 27,
     "metadata": {},
     "output_type": "execute_result"
    }
   ],
   "source": [
    "#Confirm the content of \"Country/Region\" column are the same in those dataframes\n",
    "confirmed_clean_df[\"Country/Region\"].equals(deaths_clean_df[\"Country/Region\"])"
   ]
  },
  {
   "cell_type": "code",
   "execution_count": 13,
   "metadata": {
    "ExecuteTime": {
     "end_time": "2020-04-01T03:50:58.929960Z",
     "start_time": "2020-04-01T03:50:58.892980Z"
    }
   },
   "outputs": [
    {
     "data": {
      "text/plain": [
       "True"
      ]
     },
     "execution_count": 13,
     "metadata": {},
     "output_type": "execute_result"
    }
   ],
   "source": [
    "#Same as above\n",
    "recovered_clean_df[\"Country/Region\"].equals(deaths_clean_df[\"Country/Region\"])"
   ]
  },
  {
   "cell_type": "code",
   "execution_count": 45,
   "metadata": {
    "ExecuteTime": {
     "end_time": "2020-04-01T03:50:58.949461Z",
     "start_time": "2020-04-01T03:50:58.934955Z"
    }
   },
   "outputs": [
    {
     "name": "stderr",
     "output_type": "stream",
     "text": [
      "C:\\Users\\mdaas\\AppData\\Local\\Temp\\ipykernel_2220\\3573439166.py:11: UserWarning: Could not infer format, so each element will be parsed individually, falling back to `dateutil`. To ensure parsing is consistent and as-expected, please specify a format.\n",
      "  converted['Date'] = pd.to_datetime(converted['Date'])\n",
      "C:\\Users\\mdaas\\AppData\\Local\\Temp\\ipykernel_2220\\3573439166.py:11: UserWarning: Could not infer format, so each element will be parsed individually, falling back to `dateutil`. To ensure parsing is consistent and as-expected, please specify a format.\n",
      "  converted['Date'] = pd.to_datetime(converted['Date'])\n",
      "C:\\Users\\mdaas\\AppData\\Local\\Temp\\ipykernel_2220\\3573439166.py:11: UserWarning: Could not infer format, so each element will be parsed individually, falling back to `dateutil`. To ensure parsing is consistent and as-expected, please specify a format.\n",
      "  converted['Date'] = pd.to_datetime(converted['Date'])\n"
     ]
    },
    {
     "data": {
      "text/html": [
       "<div>\n",
       "<style scoped>\n",
       "    .dataframe tbody tr th:only-of-type {\n",
       "        vertical-align: middle;\n",
       "    }\n",
       "\n",
       "    .dataframe tbody tr th {\n",
       "        vertical-align: top;\n",
       "    }\n",
       "\n",
       "    .dataframe thead th {\n",
       "        text-align: right;\n",
       "    }\n",
       "</style>\n",
       "<table border=\"1\" class=\"dataframe\">\n",
       "  <thead>\n",
       "    <tr style=\"text-align: right;\">\n",
       "      <th></th>\n",
       "      <th>Country/Region</th>\n",
       "      <th>Date</th>\n",
       "      <th>Number</th>\n",
       "    </tr>\n",
       "  </thead>\n",
       "  <tbody>\n",
       "    <tr>\n",
       "      <th>0</th>\n",
       "      <td>Afghanistan</td>\n",
       "      <td>2020-01-23</td>\n",
       "      <td>0</td>\n",
       "    </tr>\n",
       "    <tr>\n",
       "      <th>176</th>\n",
       "      <td>Afghanistan</td>\n",
       "      <td>2020-02-03</td>\n",
       "      <td>0</td>\n",
       "    </tr>\n",
       "    <tr>\n",
       "      <th>352</th>\n",
       "      <td>Afghanistan</td>\n",
       "      <td>2020-02-13</td>\n",
       "      <td>0</td>\n",
       "    </tr>\n",
       "    <tr>\n",
       "      <th>528</th>\n",
       "      <td>Afghanistan</td>\n",
       "      <td>2020-02-23</td>\n",
       "      <td>0</td>\n",
       "    </tr>\n",
       "    <tr>\n",
       "      <th>704</th>\n",
       "      <td>Afghanistan</td>\n",
       "      <td>2020-03-01</td>\n",
       "      <td>0</td>\n",
       "    </tr>\n",
       "    <tr>\n",
       "      <th>...</th>\n",
       "      <td>...</td>\n",
       "      <td>...</td>\n",
       "      <td>...</td>\n",
       "    </tr>\n",
       "    <tr>\n",
       "      <th>4751</th>\n",
       "      <td>Zimbabwe</td>\n",
       "      <td>2020-03-23</td>\n",
       "      <td>1</td>\n",
       "    </tr>\n",
       "    <tr>\n",
       "      <th>4927</th>\n",
       "      <td>Zimbabwe</td>\n",
       "      <td>2020-03-24</td>\n",
       "      <td>1</td>\n",
       "    </tr>\n",
       "    <tr>\n",
       "      <th>5103</th>\n",
       "      <td>Zimbabwe</td>\n",
       "      <td>2020-03-25</td>\n",
       "      <td>1</td>\n",
       "    </tr>\n",
       "    <tr>\n",
       "      <th>5279</th>\n",
       "      <td>Zimbabwe</td>\n",
       "      <td>2020-03-26</td>\n",
       "      <td>1</td>\n",
       "    </tr>\n",
       "    <tr>\n",
       "      <th>5455</th>\n",
       "      <td>Zimbabwe</td>\n",
       "      <td>2020-03-27</td>\n",
       "      <td>1</td>\n",
       "    </tr>\n",
       "  </tbody>\n",
       "</table>\n",
       "<p>5456 rows × 3 columns</p>\n",
       "</div>"
      ],
      "text/plain": [
       "     Country/Region       Date  Number\n",
       "0       Afghanistan 2020-01-23       0\n",
       "176     Afghanistan 2020-02-03       0\n",
       "352     Afghanistan 2020-02-13       0\n",
       "528     Afghanistan 2020-02-23       0\n",
       "704     Afghanistan 2020-03-01       0\n",
       "...             ...        ...     ...\n",
       "4751       Zimbabwe 2020-03-23       1\n",
       "4927       Zimbabwe 2020-03-24       1\n",
       "5103       Zimbabwe 2020-03-25       1\n",
       "5279       Zimbabwe 2020-03-26       1\n",
       "5455       Zimbabwe 2020-03-27       1\n",
       "\n",
       "[5456 rows x 3 columns]"
      ]
     },
     "execution_count": 45,
     "metadata": {},
     "output_type": "execute_result"
    }
   ],
   "source": [
    "#Import module \n",
    "import datetime\n",
    "import os\n",
    "#Create a function to convert columns of dates into one new column, and sorting the dataset by 'Country/Region' and 'Date'\n",
    "\n",
    "def convert(clean_df):\n",
    "    #Convert columns of dates into a new column 'Date', and store the data in a new column 'Number'\n",
    "    converted = pd.melt(clean_df, id_vars=[\"Country/Region\"], \n",
    "                  var_name=\"Date\", value_name=\"Number\")\n",
    "    #Convert the data type from string to datetime64 for the data in column 'Date' \n",
    "    converted['Date'] = pd.to_datetime(converted['Date'])\n",
    "    #Sort the dataset by \"Country/Region\" and \"Date\"\n",
    "    converted_df = converted.sort_values(by=[\"Country/Region\",\"Date\"])\n",
    "    \n",
    "    return converted_df   \n",
    "#Apply convert function\n",
    "confirmed_convert_df = convert(confirmed_clean_df)\n",
    "recovered_convert_df = convert(recovered_clean_df)\n",
    "deaths_convert_df = convert(deaths_clean_df)\n",
    "\n",
    "\n",
    "deaths_convert_df"
   ]
  },
  {
   "cell_type": "code",
   "execution_count": 47,
   "metadata": {},
   "outputs": [
    {
     "data": {
      "text/html": [
       "<div>\n",
       "<style scoped>\n",
       "    .dataframe tbody tr th:only-of-type {\n",
       "        vertical-align: middle;\n",
       "    }\n",
       "\n",
       "    .dataframe tbody tr th {\n",
       "        vertical-align: top;\n",
       "    }\n",
       "\n",
       "    .dataframe thead th {\n",
       "        text-align: right;\n",
       "    }\n",
       "</style>\n",
       "<table border=\"1\" class=\"dataframe\">\n",
       "  <thead>\n",
       "    <tr style=\"text-align: right;\">\n",
       "      <th></th>\n",
       "      <th>Country/Region</th>\n",
       "      <th>Date</th>\n",
       "      <th>Number</th>\n",
       "      <th>amount_of_increase</th>\n",
       "    </tr>\n",
       "  </thead>\n",
       "  <tbody>\n",
       "    <tr>\n",
       "      <th>0</th>\n",
       "      <td>Afghanistan</td>\n",
       "      <td>2020-01-23</td>\n",
       "      <td>0</td>\n",
       "      <td>0.0</td>\n",
       "    </tr>\n",
       "    <tr>\n",
       "      <th>1</th>\n",
       "      <td>Afghanistan</td>\n",
       "      <td>2020-02-03</td>\n",
       "      <td>0</td>\n",
       "      <td>0.0</td>\n",
       "    </tr>\n",
       "    <tr>\n",
       "      <th>2</th>\n",
       "      <td>Afghanistan</td>\n",
       "      <td>2020-02-13</td>\n",
       "      <td>0</td>\n",
       "      <td>0.0</td>\n",
       "    </tr>\n",
       "    <tr>\n",
       "      <th>3</th>\n",
       "      <td>Afghanistan</td>\n",
       "      <td>2020-02-23</td>\n",
       "      <td>0</td>\n",
       "      <td>0.0</td>\n",
       "    </tr>\n",
       "    <tr>\n",
       "      <th>4</th>\n",
       "      <td>Afghanistan</td>\n",
       "      <td>2020-03-01</td>\n",
       "      <td>0</td>\n",
       "      <td>0.0</td>\n",
       "    </tr>\n",
       "    <tr>\n",
       "      <th>...</th>\n",
       "      <td>...</td>\n",
       "      <td>...</td>\n",
       "      <td>...</td>\n",
       "      <td>...</td>\n",
       "    </tr>\n",
       "    <tr>\n",
       "      <th>5451</th>\n",
       "      <td>Zimbabwe</td>\n",
       "      <td>2020-03-23</td>\n",
       "      <td>1</td>\n",
       "      <td>1.0</td>\n",
       "    </tr>\n",
       "    <tr>\n",
       "      <th>5452</th>\n",
       "      <td>Zimbabwe</td>\n",
       "      <td>2020-03-24</td>\n",
       "      <td>1</td>\n",
       "      <td>0.0</td>\n",
       "    </tr>\n",
       "    <tr>\n",
       "      <th>5453</th>\n",
       "      <td>Zimbabwe</td>\n",
       "      <td>2020-03-25</td>\n",
       "      <td>1</td>\n",
       "      <td>0.0</td>\n",
       "    </tr>\n",
       "    <tr>\n",
       "      <th>5454</th>\n",
       "      <td>Zimbabwe</td>\n",
       "      <td>2020-03-26</td>\n",
       "      <td>1</td>\n",
       "      <td>0.0</td>\n",
       "    </tr>\n",
       "    <tr>\n",
       "      <th>5455</th>\n",
       "      <td>Zimbabwe</td>\n",
       "      <td>2020-03-27</td>\n",
       "      <td>1</td>\n",
       "      <td>0.0</td>\n",
       "    </tr>\n",
       "  </tbody>\n",
       "</table>\n",
       "<p>5456 rows × 4 columns</p>\n",
       "</div>"
      ],
      "text/plain": [
       "     Country/Region       Date  Number  amount_of_increase\n",
       "0       Afghanistan 2020-01-23       0                 0.0\n",
       "1       Afghanistan 2020-02-03       0                 0.0\n",
       "2       Afghanistan 2020-02-13       0                 0.0\n",
       "3       Afghanistan 2020-02-23       0                 0.0\n",
       "4       Afghanistan 2020-03-01       0                 0.0\n",
       "...             ...        ...     ...                 ...\n",
       "5451       Zimbabwe 2020-03-23       1                 1.0\n",
       "5452       Zimbabwe 2020-03-24       1                 0.0\n",
       "5453       Zimbabwe 2020-03-25       1                 0.0\n",
       "5454       Zimbabwe 2020-03-26       1                 0.0\n",
       "5455       Zimbabwe 2020-03-27       1                 0.0\n",
       "\n",
       "[5456 rows x 4 columns]"
      ]
     },
     "execution_count": 47,
     "metadata": {},
     "output_type": "execute_result"
    }
   ],
   "source": [
    "#Create a function to calculate the daily increase\n",
    "\n",
    "def dailychange(convert_df):\n",
    "    #Change the index in order to apply diff() function\n",
    "    convert_df = convert_df.set_index(['Country/Region','Date'])\n",
    "    \n",
    "    #Create a new column to store the difference between rows\n",
    "    convert_df['amount_of_increase']=convert_df.diff()\n",
    "    \n",
    "    #Change back the index\n",
    "    convert_df=convert_df.reset_index()\n",
    "    \n",
    "    #Run a for loop to check the boundary rows where the 'Country' changes, and change the value of difference to 0\n",
    "    for i in range(0,int(convert_df.index.size)-1):\n",
    "        if convert_df['Country/Region'][i] != convert_df['Country/Region'][i+1]:\n",
    "            convert_df.at[i+1,'amount_of_increase'] = 0\n",
    "        else:\n",
    "            pass\n",
    "    \n",
    "    #Fill all NaN with 0\n",
    "    convert_df=convert_df.fillna(0)\n",
    "\n",
    "    return convert_df\n",
    "\n",
    "#Apply the function\n",
    "confirmed_daily_df = dailychange(confirmed_convert_df)\n",
    "recovered_daily_df = dailychange(recovered_convert_df)\n",
    "deaths_daily_df = dailychange(deaths_convert_df)\n",
    "\n",
    "deaths_daily_df"
   ]
  },
  {
   "cell_type": "code",
   "execution_count": 49,
   "metadata": {},
   "outputs": [],
   "source": [
    "#Rename the columns\n",
    "confirmed_daily_df.columns=['country','date','accumulated_confirmed','increase_of_confirmed']\n",
    "recovered_daily_df.columns=['country','date','accumulated_recovered','increase_of_recovered']\n",
    "deaths_daily_df.columns=['country','date','accumulated_deaths','increase_of_deaths']\n",
    "# Turning the last colum of each DataFrame into an integer\n",
    "confirmed_daily_df[\"increase_of_confirmed\"] = confirmed_daily_df[\"increase_of_confirmed\"].astype(int)\n",
    "recovered_daily_df[\"increase_of_recovered\"] = recovered_daily_df[\"increase_of_recovered\"].astype(int) \n",
    "deaths_daily_df[\"increase_of_deaths\"] = deaths_daily_df[\"increase_of_deaths\"].astype(int)\n",
    "#Export datasets\n",
    "confirmed_daily_df.to_csv(os.path.join('clean_data','confirmed_clean_df.csv'), index=False)\n",
    "recovered_daily_df.to_csv(os.path.join('clean_data','recovered_clean_df.csv'), index=False)\n",
    "deaths_daily_df.to_csv(os.path.join('clean_data','deaths_clean_df.csv'), index=False)"
   ]
  },
  {
   "cell_type": "code",
   "execution_count": null,
   "metadata": {},
   "outputs": [],
   "source": []
  }
 ],
 "metadata": {
  "kernelspec": {
   "display_name": "Python 3 (ipykernel)",
   "language": "python",
   "name": "python3"
  },
  "language_info": {
   "codemirror_mode": {
    "name": "ipython",
    "version": 3
   },
   "file_extension": ".py",
   "mimetype": "text/x-python",
   "name": "python",
   "nbconvert_exporter": "python",
   "pygments_lexer": "ipython3",
   "version": "3.12.7"
  },
  "toc": {
   "base_numbering": 1,
   "nav_menu": {},
   "number_sections": true,
   "sideBar": true,
   "skip_h1_title": false,
   "title_cell": "Table of Contents",
   "title_sidebar": "Contents",
   "toc_cell": false,
   "toc_position": {},
   "toc_section_display": true,
   "toc_window_display": false
  },
  "varInspector": {
   "cols": {
    "lenName": 16,
    "lenType": 16,
    "lenVar": 40
   },
   "kernels_config": {
    "python": {
     "delete_cmd_postfix": "",
     "delete_cmd_prefix": "del ",
     "library": "var_list.py",
     "varRefreshCmd": "print(var_dic_list())"
    },
    "r": {
     "delete_cmd_postfix": ") ",
     "delete_cmd_prefix": "rm(",
     "library": "var_list.r",
     "varRefreshCmd": "cat(var_dic_list()) "
    }
   },
   "types_to_exclude": [
    "module",
    "function",
    "builtin_function_or_method",
    "instance",
    "_Feature"
   ],
   "window_display": false
  }
 },
 "nbformat": 4,
 "nbformat_minor": 4
}
